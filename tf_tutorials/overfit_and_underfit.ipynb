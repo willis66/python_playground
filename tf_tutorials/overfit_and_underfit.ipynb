{
 "cells": [
  {
   "cell_type": "markdown",
   "metadata": {},
   "source": [
    "# Over-fitting and Under-fitting\n",
    "\n",
    "Underfitting is when a model can still be improved, becuase it's not powerful enough for the situtation, it's over-regularized (over simplified), or maybe it's just not been trained enough. Overfitting on the other hand is when the model starts to memorize the training data and draw patterns that don't (or aren't supposed to) apply to the test data. You have to strike a balance.\n",
    "[link](https://www.tensorflow.org/tutorials/keras/overfit_and_underfit)"
   ]
  },
  {
   "cell_type": "code",
   "execution_count": 1,
   "metadata": {},
   "outputs": [
    {
     "name": "stdout",
     "output_type": "stream",
     "text": [
      "2.8.0\n"
     ]
    }
   ],
   "source": [
    "import tensorflow as tf\n",
    "\n",
    "print(tf.__version__)\n",
    "import tensorflow_docs as tfdocs\n",
    "import tensorflow_docs.plots\n",
    "import tensorflow_docs.modeling\n",
    "\n",
    "\n",
    "from IPython import display\n",
    "from matplotlib import pyplot as plt\n",
    "import numpy as np\n",
    "import pathlib\n",
    "import shutil\n",
    "import tempfile\n"
   ]
  },
  {
   "cell_type": "code",
   "execution_count": 2,
   "metadata": {},
   "outputs": [],
   "source": [
    "logdir = pathlib.Path(tempfile.mkdtemp()) / \"tensorboard_logs\"\n",
    "shutil.rmtree(logdir, ignore_errors=True)\n"
   ]
  },
  {
   "cell_type": "markdown",
   "metadata": {},
   "source": [
    "### Higgs dataset\n",
    "\n",
    "Just a dataset. Using tf's build in function to grab this dataset for us. It contains 11,000,000 examples, each with 28 features, and a binary class label.\n"
   ]
  },
  {
   "cell_type": "code",
   "execution_count": 3,
   "metadata": {},
   "outputs": [],
   "source": [
    "gz = tf.keras.utils.get_file(\n",
    "    \"HIGGS.csv.gz\", \"http://mlphysics.ics.uci.edu/data/higgs/HIGGS.csv.gz\"\n",
    ")\n",
    "FEATURES = 28\n"
   ]
  },
  {
   "cell_type": "markdown",
   "metadata": {},
   "source": [
    "This Tf function allows the dataset to be read without first having to be decompressed\n"
   ]
  },
  {
   "cell_type": "code",
   "execution_count": 4,
   "metadata": {},
   "outputs": [
    {
     "name": "stderr",
     "output_type": "stream",
     "text": [
      "2022-06-12 00:22:46.088644: I tensorflow/core/platform/cpu_feature_guard.cc:151] This TensorFlow binary is optimized with oneAPI Deep Neural Network Library (oneDNN) to use the following CPU instructions in performance-critical operations:  AVX2 FMA\n",
      "To enable them in other operations, rebuild TensorFlow with the appropriate compiler flags.\n"
     ]
    }
   ],
   "source": [
    "ds = tf.data.experimental.CsvDataset(\n",
    "    gz, [float()] * (FEATURES + 1), compression_type=\"GZIP\"\n",
    ")\n"
   ]
  },
  {
   "cell_type": "markdown",
   "metadata": {},
   "source": [
    "That csv reader class returns a list of scalars for each record. The following function repacks that list of scalars into a (feature_vector, label) pair.\n"
   ]
  },
  {
   "cell_type": "code",
   "execution_count": 5,
   "metadata": {},
   "outputs": [],
   "source": [
    "def pack_row(*row):\n",
    "    label = row[0]\n",
    "    features = tf.stack(row[1:], 1)\n",
    "    return features, label\n"
   ]
  },
  {
   "cell_type": "markdown",
   "metadata": {},
   "source": [
    "I guess TF is optimized to work with large datasets, so the best way to repack this function is to take them in batches of 10,000 from the dataset instead of one at a time\n"
   ]
  },
  {
   "cell_type": "code",
   "execution_count": 6,
   "metadata": {},
   "outputs": [],
   "source": [
    "packed_ds = ds.batch(10000).map(pack_row).unbatch()\n"
   ]
  },
  {
   "cell_type": "code",
   "execution_count": 7,
   "metadata": {},
   "outputs": [
    {
     "name": "stdout",
     "output_type": "stream",
     "text": [
      "tf.Tensor(\n",
      "[ 0.8692932  -0.6350818   0.22569026  0.32747006 -0.6899932   0.75420225\n",
      " -0.24857314 -1.0920639   0.          1.3749921  -0.6536742   0.9303491\n",
      "  1.1074361   1.1389043  -1.5781983  -1.0469854   0.          0.65792954\n",
      " -0.01045457 -0.04576717  3.1019614   1.35376     0.9795631   0.97807616\n",
      "  0.92000484  0.72165745  0.98875093  0.87667835], shape=(28,), dtype=float32)\n"
     ]
    },
    {
     "data": {
      "image/png": "[encoded data removed]",
      "text/plain": [
       "<Figure size 432x288 with 1 Axes>"
      ]
     },
     "metadata": {
      "needs_background": "light"
     },
     "output_type": "display_data"
    }
   ],
   "source": [
    "for features,label in packed_ds.batch(1000).take(1):\n",
    "  print(features[0])\n",
    "  plt.hist(features.numpy().flatten(), bins = 101)\n"
   ]
  },
  {
   "cell_type": "markdown",
   "metadata": {},
   "source": [
    "While there's much more data, we're only going to use the first 1k for validation and the next 10k for training.\n"
   ]
  },
  {
   "cell_type": "code",
   "execution_count": 8,
   "metadata": {},
   "outputs": [],
   "source": [
    "N_VALIDATION = int(1e3)\n",
    "N_TRAIN = int(1e4)\n",
    "BUFFER_SIZE = int(1e4)\n",
    "BATCH_SIZE = 500\n",
    "STEPS_PER_EPOCH = N_TRAIN // BATCH_SIZE\n"
   ]
  },
  {
   "cell_type": "markdown",
   "metadata": {},
   "source": [
    "Using tensorflow's take, skip, and cache functions on the dataset\n"
   ]
  },
  {
   "cell_type": "code",
   "execution_count": 9,
   "metadata": {},
   "outputs": [
    {
     "data": {
      "text/plain": [
       "<CacheDataset element_spec=(TensorSpec(shape=(28,), dtype=tf.float32, name=None), TensorSpec(shape=(), dtype=tf.float32, name=None))>"
      ]
     },
     "execution_count": 9,
     "metadata": {},
     "output_type": "execute_result"
    }
   ],
   "source": [
    "val_ds = packed_ds.take(N_VALIDATION).cache()\n",
    "train_ds = packed_ds.skip(N_VALIDATION).take(N_TRAIN).cache()\n",
    "train_ds\n"
   ]
  },
  {
   "cell_type": "markdown",
   "metadata": {},
   "source": [
    "Currently both the val_ds and train_ds are going to contain individual values, but we want them batched. Or rather, tensorflow wants them batched. Because the train data might be in some sort of order, we're going to shuffle it before batching.\n"
   ]
  },
  {
   "cell_type": "code",
   "execution_count": 10,
   "metadata": {},
   "outputs": [],
   "source": [
    "val_ds = val_ds.batch(BATCH_SIZE)\n",
    "train_ds = train_ds.shuffle(BUFFER_SIZE).repeat().batch(BATCH_SIZE)\n"
   ]
  },
  {
   "cell_type": "markdown",
   "metadata": {},
   "source": [
    "Many models train better by reducing the learning rate during the training. This hyperbolically reduces the training rate to 1/2 @ 1000 epochs, 1/3 @ 2000 epochs, and so on.\n"
   ]
  },
  {
   "cell_type": "code",
   "execution_count": 11,
   "metadata": {},
   "outputs": [],
   "source": [
    "lr_schedule = tf.keras.optimizers.schedules.InverseTimeDecay(\n",
    "    0.001, decay_steps=STEPS_PER_EPOCH * 1000, decay_rate=1, staircase=False\n",
    ")\n",
    "\n",
    "\n",
    "def get_optimizer():\n",
    "    return tf.keras.optimizers.Adam(lr_schedule)\n"
   ]
  },
  {
   "cell_type": "markdown",
   "metadata": {},
   "source": [
    "This graphs the learning rate over epochs\n"
   ]
  },
  {
   "cell_type": "code",
   "execution_count": 12,
   "metadata": {},
   "outputs": [
    {
     "data": {
      "image/png": "[encoded data removed]",
      "text/plain": [
       "<Figure size 576x432 with 1 Axes>"
      ]
     },
     "metadata": {
      "needs_background": "light"
     },
     "output_type": "display_data"
    }
   ],
   "source": [
    "step = np.linspace(0, 100000)\n",
    "lr = lr_schedule(step)\n",
    "plt.figure(figsize=(8, 6))\n",
    "plt.plot(step / STEPS_PER_EPOCH, lr)\n",
    "plt.ylim((0, max(plt.ylim())))\n",
    "plt.xlabel(\"Epoch\")\n",
    "_ = plt.ylabel(\"Learning Rate\")\n"
   ]
  },
  {
   "cell_type": "markdown",
   "metadata": {},
   "source": [
    "The `EpochDots` function prints a `.` for each epoch, and full metrics every 100 epochs. This is good when using many small epochs. The `EarlyStopping` monitors `val_binary_crossentropy` and prevents very long training times. Finally, `TensorBoard` will create logs for the training.\n"
   ]
  },
  {
   "cell_type": "code",
   "execution_count": 13,
   "metadata": {},
   "outputs": [],
   "source": [
    "def get_callbacks(name):\n",
    "    return (\n",
    "        tfdocs.modeling.EpochDots(),\n",
    "        tf.keras.callbacks.EarlyStopping(\n",
    "            monitor=\"val_binary_crossentropy\", patience=200\n",
    "        ),\n",
    "        tf.keras.callbacks.TensorBoard(logdir / name),\n",
    "    )\n"
   ]
  },
  {
   "cell_type": "markdown",
   "metadata": {},
   "source": [
    "Creating a function to compile and fit future models\n"
   ]
  },
  {
   "cell_type": "code",
   "execution_count": 14,
   "metadata": {},
   "outputs": [],
   "source": [
    "def compile_and_fit(model, name, optimizer=None, max_epochs=10000):\n",
    "    if optimizer is None:\n",
    "        optimizer = get_optimizer()\n",
    "    model.compile(\n",
    "        optimizer=optimizer,\n",
    "        loss=tf.keras.losses.BinaryCrossentropy(from_logits=True),\n",
    "        metrics=(\n",
    "            tf.keras.losses.BinaryCrossentropy(\n",
    "                from_logits=True, name=\"binary_crossentropy\"\n",
    "            ),\n",
    "            \"accuracy\",\n",
    "        ),\n",
    "    )\n",
    "    model.summary()\n",
    "\n",
    "    history = model.fit(\n",
    "        train_ds,\n",
    "        steps_per_epoch=STEPS_PER_EPOCH,\n",
    "        epochs=max_epochs,\n",
    "        validation_data=val_ds,\n",
    "        callbacks=get_callbacks(name),\n",
    "        verbose=0,\n",
    "    )\n",
    "    return history\n"
   ]
  },
  {
   "cell_type": "markdown",
   "metadata": {},
   "source": [
    "Now we're going to start to train the models.\n"
   ]
  },
  {
   "cell_type": "code",
   "execution_count": 15,
   "metadata": {},
   "outputs": [],
   "source": [
    "tiny_model = tf.keras.Sequential(\n",
    "    (\n",
    "        tf.keras.layers.Dense(16, activation=\"elu\", input_shape=(FEATURES,)),\n",
    "        tf.keras.layers.Dense(1),\n",
    "    )\n",
    ")\n"
   ]
  },
  {
   "cell_type": "code",
   "execution_count": 16,
   "metadata": {},
   "outputs": [],
   "source": [
    "size_histories = {}"
   ]
  },
  {
   "cell_type": "code",
   "execution_count": 17,
   "metadata": {},
   "outputs": [
    {
     "name": "stdout",
     "output_type": "stream",
     "text": [
      "Model: \"sequential\"\n",
      "_________________________________________________________________\n",
      " Layer (type)                Output Shape              Param #   \n",
      "=================================================================\n",
      " dense (Dense)               (None, 16)                464       \n",
      "                                                                 \n",
      " dense_1 (Dense)             (None, 1)                 17        \n",
      "                                                                 \n",
      "=================================================================\n",
      "Total params: 481\n",
      "Trainable params: 481\n",
      "Non-trainable params: 0\n",
      "_________________________________________________________________\n"
     ]
    },
    {
     "name": "stderr",
     "output_type": "stream",
     "text": [
      "2022-06-12 00:30:31.510149: I tensorflow/core/kernels/data/shuffle_dataset_op.cc:390] Filling up shuffle buffer (this may take a while): 1 of 10000\n",
      "2022-06-12 00:30:31.510179: I tensorflow/core/kernels/data/shuffle_dataset_op.cc:390] Filling up shuffle buffer (this may take a while): 2 of 10000\n",
      "2022-06-12 00:30:31.510189: I tensorflow/core/kernels/data/shuffle_dataset_op.cc:390] Filling up shuffle buffer (this may take a while): 3 of 10000\n",
      "2022-06-12 00:30:31.510195: I tensorflow/core/kernels/data/shuffle_dataset_op.cc:390] Filling up shuffle buffer (this may take a while): 4 of 10000\n",
      "2022-06-12 00:30:31.510210: I tensorflow/core/kernels/data/shuffle_dataset_op.cc:390] Filling up shuffle buffer (this may take a while): 5 of 10000\n",
      "2022-06-12 00:30:31.510217: I tensorflow/core/kernels/data/shuffle_dataset_op.cc:390] Filling up shuffle buffer (this may take a while): 6 of 10000\n",
      "2022-06-12 00:30:31.510223: I tensorflow/core/kernels/data/shuffle_dataset_op.cc:390] Filling up shuffle buffer (this may take a while): 7 of 10000\n",
      "2022-06-12 00:30:31.510228: I tensorflow/core/kernels/data/shuffle_dataset_op.cc:390] Filling up shuffle buffer (this may take a while): 8 of 10000\n",
      "2022-06-12 00:30:31.510236: I tensorflow/core/kernels/data/shuffle_dataset_op.cc:390] Filling up shuffle buffer (this may take a while): 9 of 10000\n",
      "2022-06-12 00:30:31.510242: I tensorflow/core/kernels/data/shuffle_dataset_op.cc:390] Filling up shuffle buffer (this may take a while): 10 of 10000\n",
      "2022-06-12 00:33:04.575781: I tensorflow/core/kernels/data/shuffle_dataset_op.cc:390] Filling up shuffle buffer (this may take a while): 9001 of 10000\n",
      "2022-06-12 00:33:04.575857: I tensorflow/core/kernels/data/shuffle_dataset_op.cc:390] Filling up shuffle buffer (this may take a while): 9002 of 10000\n",
      "2022-06-12 00:33:04.575871: I tensorflow/core/kernels/data/shuffle_dataset_op.cc:390] Filling up shuffle buffer (this may take a while): 9003 of 10000\n",
      "2022-06-12 00:33:04.575877: I tensorflow/core/kernels/data/shuffle_dataset_op.cc:390] Filling up shuffle buffer (this may take a while): 9004 of 10000\n",
      "2022-06-12 00:33:04.575882: I tensorflow/core/kernels/data/shuffle_dataset_op.cc:390] Filling up shuffle buffer (this may take a while): 9005 of 10000\n",
      "2022-06-12 00:33:04.575888: I tensorflow/core/kernels/data/shuffle_dataset_op.cc:390] Filling up shuffle buffer (this may take a while): 9006 of 10000\n",
      "2022-06-12 00:33:04.575898: I tensorflow/core/kernels/data/shuffle_dataset_op.cc:390] Filling up shuffle buffer (this may take a while): 9007 of 10000\n",
      "2022-06-12 00:33:04.575905: I tensorflow/core/kernels/data/shuffle_dataset_op.cc:390] Filling up shuffle buffer (this may take a while): 9008 of 10000\n",
      "2022-06-12 00:33:04.575927: I tensorflow/core/kernels/data/shuffle_dataset_op.cc:390] Filling up shuffle buffer (this may take a while): 9009 of 10000\n",
      "2022-06-12 00:33:04.575932: I tensorflow/core/kernels/data/shuffle_dataset_op.cc:390] Filling up shuffle buffer (this may take a while): 9010 of 10000\n",
      "2022-06-12 00:33:04.575938: I tensorflow/core/kernels/data/shuffle_dataset_op.cc:390] Filling up shuffle buffer (this may take a while): 9011 of 10000\n",
      "2022-06-12 00:33:04.575943: I tensorflow/core/kernels/data/shuffle_dataset_op.cc:390] Filling up shuffle buffer (this may take a while): 9012 of 10000\n",
      "2022-06-12 00:33:04.575948: I tensorflow/core/kernels/data/shuffle_dataset_op.cc:390] Filling up shuffle buffer (this may take a while): 9013 of 10000\n",
      "2022-06-12 00:33:04.575962: I tensorflow/core/kernels/data/shuffle_dataset_op.cc:390] Filling up shuffle buffer (this may take a while): 9014 of 10000\n",
      "2022-06-12 00:33:04.575975: I tensorflow/core/kernels/data/shuffle_dataset_op.cc:390] Filling up shuffle buffer (this may take a while): 9015 of 10000\n",
      "2022-06-12 00:33:04.575982: I tensorflow/core/kernels/data/shuffle_dataset_op.cc:390] Filling up shuffle buffer (this may take a while): 9016 of 10000\n",
      "2022-06-12 00:33:04.578435: I tensorflow/core/kernels/data/shuffle_dataset_op.cc:415] Shuffle buffer filled.\n",
      "2022-06-12 00:38:14.583264: I tensorflow/core/kernels/data/shuffle_dataset_op.cc:390] Filling up shuffle buffer (this may take a while): 9999 of 10000\n",
      "2022-06-12 00:38:14.589102: I tensorflow/core/kernels/data/shuffle_dataset_op.cc:415] Shuffle buffer filled.\n"
     ]
    },
    {
     "name": "stdout",
     "output_type": "stream",
     "text": [
      "\n",
      "Epoch: 0, accuracy:0.4850,  binary_crossentropy:0.8505,  loss:0.8505,  val_accuracy:0.4700,  val_binary_crossentropy:0.7857,  val_loss:0.7857,  \n",
      "....................................................................................................\n",
      "Epoch: 100, accuracy:0.6045,  binary_crossentropy:0.6239,  loss:0.6239,  val_accuracy:0.5880,  val_binary_crossentropy:0.6243,  val_loss:0.6243,  \n",
      "....................................................................................................\n",
      "Epoch: 200, accuracy:0.6320,  binary_crossentropy:0.6097,  loss:0.6097,  val_accuracy:0.5910,  val_binary_crossentropy:0.6138,  val_loss:0.6138,  \n",
      "....................................................................................................\n",
      "Epoch: 300, accuracy:0.6436,  binary_crossentropy:0.6026,  loss:0.6026,  val_accuracy:0.6360,  val_binary_crossentropy:0.6049,  val_loss:0.6049,  \n",
      "....................................................................................................\n",
      "Epoch: 400, accuracy:0.6546,  binary_crossentropy:0.5982,  loss:0.5982,  val_accuracy:0.6170,  val_binary_crossentropy:0.6051,  val_loss:0.6051,  \n",
      "....................................................................................................\n",
      "Epoch: 500, accuracy:0.6602,  binary_crossentropy:0.5943,  loss:0.5943,  val_accuracy:0.6270,  val_binary_crossentropy:0.6027,  val_loss:0.6027,  \n",
      "....................................................................................................\n",
      "Epoch: 600, accuracy:0.6642,  binary_crossentropy:0.5920,  loss:0.5920,  val_accuracy:0.6300,  val_binary_crossentropy:0.6018,  val_loss:0.6018,  \n",
      "....................................................................................................\n",
      "Epoch: 700, accuracy:0.6644,  binary_crossentropy:0.5895,  loss:0.5895,  val_accuracy:0.6480,  val_binary_crossentropy:0.6004,  val_loss:0.6004,  \n",
      "....................................................................................................\n",
      "Epoch: 800, accuracy:0.6677,  binary_crossentropy:0.5875,  loss:0.5875,  val_accuracy:0.6410,  val_binary_crossentropy:0.6007,  val_loss:0.6007,  \n",
      "....................................................................................................\n",
      "Epoch: 900, accuracy:0.6694,  binary_crossentropy:0.5863,  loss:0.5863,  val_accuracy:0.6390,  val_binary_crossentropy:0.6025,  val_loss:0.6025,  \n",
      "........................."
     ]
    }
   ],
   "source": [
    "size_histories[\"Tiny\"] = compile_and_fit(tiny_model, \"sizes/Tiny\")"
   ]
  },
  {
   "cell_type": "markdown",
   "metadata": {},
   "source": [
    "Now we're going to see how well the model did"
   ]
  },
  {
   "cell_type": "code",
   "execution_count": 18,
   "metadata": {},
   "outputs": [
    {
     "data": {
      "image/png": "[encoded data removed]",
      "text/plain": [
       "<Figure size 432x288 with 1 Axes>"
      ]
     },
     "metadata": {
      "needs_background": "light"
     },
     "output_type": "display_data"
    }
   ],
   "source": [
    "plotter = tfdocs.plots.HistoryPlotter(metric = \"binary_crossentropy\", smoothing_std=10)\n",
    "plotter.plot(size_histories)\n",
    "_ = plt.ylim((0.5, 0.7))"
   ]
  },
  {
   "cell_type": "markdown",
   "metadata": {},
   "source": [
    "# Small Model\n",
    "Alright, well that was the \"Tiny Model,\" so now we're going to move on to a slightly larger (albeit still small) model. We're going to progressively train larger models and see if they will outperform the smaller ones. For the small model we're going to have a network with two 16 unit hidden layers. "
   ]
  },
  {
   "cell_type": "code",
   "execution_count": 19,
   "metadata": {},
   "outputs": [],
   "source": [
    "small_model = tf.keras.Sequential(\n",
    "    [\n",
    "        # copied from guide: `input_shape` is only required here so that `.summary` works.\n",
    "        tf.keras.layers.Dense(16, activation=\"elu\", input_shape=(FEATURES,)),\n",
    "        tf.keras.layers.Dense(16, activation=\"elu\"),\n",
    "        tf.keras.layers.Dense(1),\n",
    "    ]\n",
    ")\n"
   ]
  },
  {
   "cell_type": "code",
   "execution_count": 20,
   "metadata": {},
   "outputs": [
    {
     "name": "stdout",
     "output_type": "stream",
     "text": [
      "Model: \"sequential_1\"\n",
      "_________________________________________________________________\n",
      " Layer (type)                Output Shape              Param #   \n",
      "=================================================================\n",
      " dense_2 (Dense)             (None, 16)                464       \n",
      "                                                                 \n",
      " dense_3 (Dense)             (None, 16)                272       \n",
      "                                                                 \n",
      " dense_4 (Dense)             (None, 1)                 17        \n",
      "                                                                 \n",
      "=================================================================\n",
      "Total params: 753\n",
      "Trainable params: 753\n",
      "Non-trainable params: 0\n",
      "_________________________________________________________________\n",
      "\n",
      "Epoch: 0, accuracy:0.4959,  binary_crossentropy:0.7343,  loss:0.7343,  val_accuracy:0.4850,  val_binary_crossentropy:0.6969,  val_loss:0.6969,  \n",
      "....................................................................................................\n",
      "Epoch: 100, accuracy:0.6290,  binary_crossentropy:0.6122,  loss:0.6122,  val_accuracy:0.6260,  val_binary_crossentropy:0.6117,  val_loss:0.6117,  \n",
      "....................................................................................................\n",
      "Epoch: 200, accuracy:0.6605,  binary_crossentropy:0.5913,  loss:0.5913,  val_accuracy:0.6450,  val_binary_crossentropy:0.5926,  val_loss:0.5926,  \n",
      "....................................................................................................\n",
      "Epoch: 300, accuracy:0.6712,  binary_crossentropy:0.5837,  loss:0.5837,  val_accuracy:0.6700,  val_binary_crossentropy:0.5870,  val_loss:0.5870,  \n",
      "....................................................................................................\n",
      "Epoch: 400, accuracy:0.6791,  binary_crossentropy:0.5761,  loss:0.5761,  val_accuracy:0.6770,  val_binary_crossentropy:0.5857,  val_loss:0.5857,  \n",
      "....................................................................................................\n",
      "Epoch: 500, accuracy:0.6834,  binary_crossentropy:0.5715,  loss:0.5715,  val_accuracy:0.6740,  val_binary_crossentropy:0.5847,  val_loss:0.5847,  \n",
      "....................................................................................................\n",
      "Epoch: 600, accuracy:0.6837,  binary_crossentropy:0.5672,  loss:0.5672,  val_accuracy:0.6690,  val_binary_crossentropy:0.5859,  val_loss:0.5859,  \n",
      "....................................................................................................\n",
      "Epoch: 700, accuracy:0.6869,  binary_crossentropy:0.5633,  loss:0.5633,  val_accuracy:0.6750,  val_binary_crossentropy:0.5831,  val_loss:0.5831,  \n",
      "....................................................................................................\n",
      "Epoch: 800, accuracy:0.6895,  binary_crossentropy:0.5600,  loss:0.5600,  val_accuracy:0.6790,  val_binary_crossentropy:0.5850,  val_loss:0.5850,  \n",
      "....................................................................................................\n",
      "Epoch: 900, accuracy:0.6922,  binary_crossentropy:0.5566,  loss:0.5566,  val_accuracy:0.6770,  val_binary_crossentropy:0.5852,  val_loss:0.5852,  \n",
      "......................................"
     ]
    }
   ],
   "source": [
    "size_histories[\"Small\"] = compile_and_fit(small_model, \"sizes/Small\")"
   ]
  },
  {
   "cell_type": "markdown",
   "metadata": {},
   "source": [
    "# Medium Model\n",
    "They call this a medium model (although it seems very very large to me) it's got three hidden layers with 64 nodes each. "
   ]
  },
  {
   "cell_type": "code",
   "execution_count": 21,
   "metadata": {},
   "outputs": [],
   "source": [
    "medium_model = tf.keras.Sequential([\n",
    "    tf.keras.layers.Dense(64, activation=\"elu\", input_shape=(FEATURES,)),\n",
    "    tf.keras.layers.Dense(64, activation=\"elu\"),\n",
    "    tf.keras.layers.Dense(64, activation=\"elu\"),\n",
    "    tf.keras.layers.Dense(1)\n",
    "])"
   ]
  },
  {
   "cell_type": "code",
   "execution_count": 22,
   "metadata": {},
   "outputs": [
    {
     "name": "stdout",
     "output_type": "stream",
     "text": [
      "Model: \"sequential_2\"\n",
      "_________________________________________________________________\n",
      " Layer (type)                Output Shape              Param #   \n",
      "=================================================================\n",
      " dense_5 (Dense)             (None, 64)                1856      \n",
      "                                                                 \n",
      " dense_6 (Dense)             (None, 64)                4160      \n",
      "                                                                 \n",
      " dense_7 (Dense)             (None, 64)                4160      \n",
      "                                                                 \n",
      " dense_8 (Dense)             (None, 1)                 65        \n",
      "                                                                 \n",
      "=================================================================\n",
      "Total params: 10,241\n",
      "Trainable params: 10,241\n",
      "Non-trainable params: 0\n",
      "_________________________________________________________________\n",
      "\n",
      "Epoch: 0, accuracy:0.4905,  binary_crossentropy:0.7018,  loss:0.7018,  val_accuracy:0.4920,  val_binary_crossentropy:0.6834,  val_loss:0.6834,  \n",
      "....................................................................................................\n",
      "Epoch: 100, accuracy:0.7202,  binary_crossentropy:0.5206,  loss:0.5206,  val_accuracy:0.6660,  val_binary_crossentropy:0.6240,  val_loss:0.6240,  \n",
      "....................................................................................................\n",
      "Epoch: 200, accuracy:0.7902,  binary_crossentropy:0.4285,  loss:0.4285,  val_accuracy:0.6270,  val_binary_crossentropy:0.7277,  val_loss:0.7277,  \n",
      "........................................................."
     ]
    }
   ],
   "source": [
    "size_histories['Medium']  = compile_and_fit(medium_model, \"sizes/Medium\")"
   ]
  },
  {
   "cell_type": "markdown",
   "metadata": {},
   "source": [
    "# Large model\n",
    "This network has much much more capacity than the problem would warrant. Checking how quickly it's going to overfit"
   ]
  },
  {
   "cell_type": "code",
   "execution_count": 23,
   "metadata": {},
   "outputs": [],
   "source": [
    "large_model = tf.keras.Sequential([\n",
    "    tf.keras.layers.Dense(512, activation='elu', input_shape=(FEATURES,)),\n",
    "    tf.keras.layers.Dense(512, activation='elu'),\n",
    "    tf.keras.layers.Dense(512, activation='elu'),\n",
    "    tf.keras.layers.Dense(512, activation='elu'),\n",
    "    tf.keras.layers.Dense(1)\n",
    "])"
   ]
  },
  {
   "cell_type": "code",
   "execution_count": 24,
   "metadata": {},
   "outputs": [
    {
     "name": "stdout",
     "output_type": "stream",
     "text": [
      "Model: \"sequential_3\"\n",
      "_________________________________________________________________\n",
      " Layer (type)                Output Shape              Param #   \n",
      "=================================================================\n",
      " dense_9 (Dense)             (None, 512)               14848     \n",
      "                                                                 \n",
      " dense_10 (Dense)            (None, 512)               262656    \n",
      "                                                                 \n",
      " dense_11 (Dense)            (None, 512)               262656    \n",
      "                                                                 \n",
      " dense_12 (Dense)            (None, 512)               262656    \n",
      "                                                                 \n",
      " dense_13 (Dense)            (None, 1)                 513       \n",
      "                                                                 \n",
      "=================================================================\n",
      "Total params: 803,329\n",
      "Trainable params: 803,329\n",
      "Non-trainable params: 0\n",
      "_________________________________________________________________\n",
      "\n",
      "Epoch: 0, accuracy:0.5110,  binary_crossentropy:0.8120,  loss:0.8120,  val_accuracy:0.5840,  val_binary_crossentropy:0.6777,  val_loss:0.6777,  \n",
      "....................................................................................................\n",
      "Epoch: 100, accuracy:1.0000,  binary_crossentropy:0.0021,  loss:0.0021,  val_accuracy:0.6800,  val_binary_crossentropy:1.7294,  val_loss:1.7294,  \n",
      "....................................................................................................\n",
      "Epoch: 200, accuracy:1.0000,  binary_crossentropy:0.0001,  loss:0.0001,  val_accuracy:0.6800,  val_binary_crossentropy:2.3343,  val_loss:2.3343,  \n",
      ".........................."
     ]
    }
   ],
   "source": [
    "size_histories['large'] = compile_and_fit(large_model, \"sizes/large\")\n"
   ]
  },
  {
   "cell_type": "markdown",
   "metadata": {},
   "source": [
    "The plotting method will plot the training data as a solid line and the validation data as a dotted one. Lower **validation** loss indicates a better model. Larger models have more power, yet they must be constrained somehow as they can easily overfit the dataset. \n",
    "\n",
    "In this example only the `Tiny` dataset avoids overfitting completely. As the models become larger, however, they overfit quicker and quicker. \n",
    "\n",
    "Couple quick checks/notes:\n",
    "- it's normal for there to be a small difference between the training and validation losses\n",
    "- if both metrics are moving in the same direction that's ok\n",
    "- if **only** the training metric is improving (while the validation one is stagnant) then the model is close to overfitting\n",
    "- if the validation metric is going in the wrong direction the model is overfitting"
   ]
  },
  {
   "cell_type": "code",
   "execution_count": 25,
   "metadata": {},
   "outputs": [
    {
     "data": {
      "text/plain": [
       "Text(0.5, 0, 'Epochs [Log Scale]')"
      ]
     },
     "execution_count": 25,
     "metadata": {},
     "output_type": "execute_result"
    },
    {
     "data": {
      "image/png": "[encoded data removed]",
      "text/plain": [
       "<Figure size 432x288 with 1 Axes>"
      ]
     },
     "metadata": {
      "needs_background": "light"
     },
     "output_type": "display_data"
    }
   ],
   "source": [
    "plotter.plot(size_histories)\n",
    "a = plt.xscale('log')\n",
    "plt.xlim([5, max(plt.xlim())])\n",
    "plt.ylim([0.5, 0.7])\n",
    "plt.xlabel(\"Epochs [Log Scale]\")"
   ]
  },
  {
   "cell_type": "markdown",
   "metadata": {},
   "source": [
    "**The models all used `callbacks.EarlyStopping` to end the training when the model was clearly no longer making any progress**"
   ]
  },
  {
   "cell_type": "markdown",
   "metadata": {},
   "source": [
    "something about tensorboard [https://www.tensorflow.org/tutorials/keras/overfit_and_underfit#view_in_tensorboard]"
   ]
  },
  {
   "cell_type": "markdown",
   "metadata": {},
   "source": [
    "# Strategies to prevent overfitting\n",
    "First we're just copying the training lofs of the `Tiny` model. We're going to use this model as a baseline of some comparisons."
   ]
  },
  {
   "cell_type": "code",
   "execution_count": 26,
   "metadata": {},
   "outputs": [
    {
     "data": {
      "text/plain": [
       "PosixPath('/var/folders/43/vg26n99561513nys7wd_r9pc0000gn/T/tmp__rusxqs/tensorboard_logs/regularizers/Tiny')"
      ]
     },
     "execution_count": 26,
     "metadata": {},
     "output_type": "execute_result"
    }
   ],
   "source": [
    "shutil.rmtree(logdir/'regularizers/Tiny', ignore_errors=True)\n",
    "shutil.copytree(logdir/'sizes/Tiny', logdir/'regularizers/Tiny')"
   ]
  },
  {
   "cell_type": "code",
   "execution_count": 27,
   "metadata": {},
   "outputs": [],
   "source": [
    "regularizer_histories = {}\n",
    "regularizer_histories['Tiny'] = size_histories['Tiny']"
   ]
  },
  {
   "cell_type": "markdown",
   "metadata": {},
   "source": [
    "Occam's Razor principle: given two explanations for something, the explanation most likely to be correct is the \"simplest\" one, the one that makes the least amount of assumptions. The same thing applies to neural network models, when there are multiple models that could explain the model the simpler ones are less likely to overfit than the more complex ones. \n",
    "\n",
    "A \"simple model\" (in this context) is a model where the distribution of parameter values has less entropy or a model with fewer parameters altogether.\n",
    "\n",
    "A common way to mitigate overfitting is to put constraints on the complexity of a network by forcing its weights only to take small values, which makes the distribution of weight values more \"regular\". This is called \"weight regularization\", and it is done by adding to the loss function of the network a cost associated with having large weights. This cost comes in two flavors:\n",
    "\n",
    "- [L1 regularization](https://developers.google.com/machine-learning/glossary/#L1_regularization), where the cost added is proportional to the absolute value of the weights coefficients (i.e. to what is called the \"L1 norm\" of the weights).\n",
    "\n",
    "- [L2 regularization](https://developers.google.com/machine-learning/glossary/#L2_regularization), where the cost added is proportional to the square of the value of the weights coefficients (i.e. to what is called the squared \"L2 norm\" of the weights). L2 regularization is also called weight decay in the context of neural networks. Don't let the different name confuse you: weight decay is mathematically the exact same as L2 regularization.\n",
    "\n",
    "**L1 Regularization** pushes weights toward zero, which creates a sparse model. **L2 regularization** works on models without making them sparse (as the penalty for nodes with small weights goes to zero) -- this is why **L2 regularization** is more common.\n",
    "\n",
    "In `tf.keras`, weight regularization is added by passing weight regularizer instances to layers as keyword arguments."
   ]
  },
  {
   "cell_type": "code",
   "execution_count": 28,
   "metadata": {},
   "outputs": [
    {
     "name": "stdout",
     "output_type": "stream",
     "text": [
      "Model: \"sequential_4\"\n",
      "_________________________________________________________________\n",
      " Layer (type)                Output Shape              Param #   \n",
      "=================================================================\n",
      " dense_14 (Dense)            (None, 512)               14848     \n",
      "                                                                 \n",
      " dense_15 (Dense)            (None, 512)               262656    \n",
      "                                                                 \n",
      " dense_16 (Dense)            (None, 512)               262656    \n",
      "                                                                 \n",
      " dense_17 (Dense)            (None, 512)               262656    \n",
      "                                                                 \n",
      " dense_18 (Dense)            (None, 1)                 513       \n",
      "                                                                 \n",
      "=================================================================\n",
      "Total params: 803,329\n",
      "Trainable params: 803,329\n",
      "Non-trainable params: 0\n",
      "_________________________________________________________________\n",
      "\n",
      "Epoch: 0, accuracy:0.5127,  binary_crossentropy:0.8146,  loss:2.3347,  val_accuracy:0.4800,  val_binary_crossentropy:0.6801,  val_loss:2.1277,  \n",
      "....................................................................................................\n",
      "Epoch: 100, accuracy:0.6428,  binary_crossentropy:0.6024,  loss:0.6248,  val_accuracy:0.6560,  val_binary_crossentropy:0.5974,  val_loss:0.6197,  \n",
      "....................................................................................................\n",
      "Epoch: 200, accuracy:0.6662,  binary_crossentropy:0.5864,  loss:0.6090,  val_accuracy:0.6570,  val_binary_crossentropy:0.5863,  val_loss:0.6091,  \n",
      "....................................................................................................\n",
      "Epoch: 300, accuracy:0.6713,  binary_crossentropy:0.5817,  loss:0.6036,  val_accuracy:0.6670,  val_binary_crossentropy:0.6250,  val_loss:0.6483,  \n",
      "...................................................................................................."
     ]
    }
   ],
   "source": [
    "l2_model = tf.keras.Sequential(\n",
    "    [\n",
    "        tf.keras.layers.Dense(\n",
    "            512,\n",
    "            activation=\"elu\",\n",
    "            kernel_regularizer=tf.keras.regularizers.l2(0.001),\n",
    "            input_shape=(FEATURES,),\n",
    "        ),\n",
    "        tf.keras.layers.Dense(\n",
    "            512, activation=\"elu\", kernel_regularizer=tf.keras.regularizers.l2(0.001)\n",
    "        ),\n",
    "        tf.keras.layers.Dense(\n",
    "            512, activation=\"elu\", kernel_regularizer=tf.keras.regularizers.l2(0.001)\n",
    "        ),\n",
    "        tf.keras.layers.Dense(\n",
    "            512, activation=\"elu\", kernel_regularizer=tf.keras.regularizers.l2(0.001)\n",
    "        ),\n",
    "        tf.keras.layers.Dense(1),\n",
    "    ]\n",
    ")\n",
    "\n",
    "regularizer_histories['l2'] = compile_and_fit(l2_model, \"regularizers/l2\")\n"
   ]
  },
  {
   "cell_type": "markdown",
   "metadata": {},
   "source": [
    "Each coefficient in the weight matrix of the layer will add 0.001 * weight_coefficient_value^2 to the **total loss** of the network. \n",
    "\n",
    "That is why we're monitoring the `binary_crossentropy` directly. Because it doesn't have this regularization component mixed in."
   ]
  },
  {
   "cell_type": "code",
   "execution_count": 29,
   "metadata": {},
   "outputs": [
    {
     "data": {
      "image/png": "[encoded data removed]",
      "text/plain": [
       "<Figure size 432x288 with 1 Axes>"
      ]
     },
     "metadata": {
      "needs_background": "light"
     },
     "output_type": "display_data"
    }
   ],
   "source": [
    "plotter.plot(regularizer_histories)\n",
    "_ = plt.ylim((0.5, 0.7))"
   ]
  },
  {
   "cell_type": "markdown",
   "metadata": {},
   "source": [
    "With the **L2 regularization** applied the larger model is much more competetive with the `Tiny` one. Despite having the same number of parameters as the `Large` model, with **L2 regularization** applied it's much less suceptible to overfitting (despite having the same number of parameters).\n",
    "\n",
    "#### Other notes\n",
    "1. when creating your own model you have to get its regularization losses"
   ]
  },
  {
   "cell_type": "code",
   "execution_count": 30,
   "metadata": {},
   "outputs": [],
   "source": [
    "result = l2_model(features)\n",
    "regularization_loss=tf.add_n(l2_model.losses)"
   ]
  },
  {
   "cell_type": "markdown",
   "metadata": {},
   "source": [
    "1. this implementation adds the weight's penalties to the model's loss, and then applies a standard optimization (something like adam?)\n",
    "\n",
    "2. another approach runs the optimizer on the \"raw loss,\" and while applying the calculated step the optimizer also includes some weight decay. This \"decoupled weight decay\" is used in optimizers like `tf.keras.optimizers.Ftrl` and `tfa.optimizers.AdamW`."
   ]
  },
  {
   "cell_type": "markdown",
   "metadata": {},
   "source": [
    "## Adding dropout\n"
   ]
  },
  {
   "cell_type": "markdown",
   "metadata": {},
   "source": [
    "Dropout is the most commonly used (and **most effective**) regularization techniques for neural networks. The intuitive explanation for dropout is that because individual nodes in the network cannot rely on the output of the others, each node must output features that are useful on their own.\n",
    "\n",
    "Dropout onsists of randomly \"dropping out\" (setting the weight to zero) a number of output features during training. For example, a given layer would normally have returned a vector `[0.2, 0.5, 1.3, 0.8, 1.1]`; after applying dropout, this vector will have a few zero entries distributed at random: `[0, 0.5, 1.3, 0, 1.1]`.\n",
    "\n",
    "The dropout *rate* is the fraction of features/weights that are being dropped (zeroed-out); it's typically between 0.2 and 0.5. At test time, no units are dropped out, and instead the layer's output values are scaled down by a factor equal to the dropout rate, so as to balance for the fact that more units are active than at training time.\n",
    "\n",
    "In Keras, you can introduce dropout in a network via the `tf.keras.layers.Dropout` layer, which gets applied to the output of layer right before."
   ]
  },
  {
   "cell_type": "code",
   "execution_count": 31,
   "metadata": {},
   "outputs": [
    {
     "name": "stdout",
     "output_type": "stream",
     "text": [
      "Model: \"sequential_5\"\n",
      "_________________________________________________________________\n",
      " Layer (type)                Output Shape              Param #   \n",
      "=================================================================\n",
      " dense_19 (Dense)            (None, 512)               14848     \n",
      "                                                                 \n",
      " dropout (Dropout)           (None, 512)               0         \n",
      "                                                                 \n",
      " dense_20 (Dense)            (None, 512)               262656    \n",
      "                                                                 \n",
      " dropout_1 (Dropout)         (None, 512)               0         \n",
      "                                                                 \n",
      " dense_21 (Dense)            (None, 512)               262656    \n",
      "                                                                 \n",
      " dropout_2 (Dropout)         (None, 512)               0         \n",
      "                                                                 \n",
      " dense_22 (Dense)            (None, 512)               262656    \n",
      "                                                                 \n",
      " dropout_3 (Dropout)         (None, 512)               0         \n",
      "                                                                 \n",
      " dense_23 (Dense)            (None, 1)                 513       \n",
      "                                                                 \n",
      "=================================================================\n",
      "Total params: 803,329\n",
      "Trainable params: 803,329\n",
      "Non-trainable params: 0\n",
      "_________________________________________________________________\n",
      "\n",
      "Epoch: 0, accuracy:0.5059,  binary_crossentropy:0.8269,  loss:0.8269,  val_accuracy:0.5140,  val_binary_crossentropy:0.7033,  val_loss:0.7033,  \n",
      "....................................................................................................\n",
      "Epoch: 100, accuracy:0.6498,  binary_crossentropy:0.5965,  loss:0.5965,  val_accuracy:0.6940,  val_binary_crossentropy:0.5809,  val_loss:0.5809,  \n",
      "....................................................................................................\n",
      "Epoch: 200, accuracy:0.6872,  binary_crossentropy:0.5612,  loss:0.5612,  val_accuracy:0.6960,  val_binary_crossentropy:0.5783,  val_loss:0.5783,  \n",
      "....................................................................................................\n",
      "Epoch: 300, accuracy:0.7185,  binary_crossentropy:0.5183,  loss:0.5183,  val_accuracy:0.6890,  val_binary_crossentropy:0.5962,  val_loss:0.5962,  \n",
      "........................................................................"
     ]
    }
   ],
   "source": [
    "dropout_model = tf.keras.Sequential([\n",
    "    tf.keras.layers.Dense(512, activation='elu', input_shape=(FEATURES,)),\n",
    "    tf.keras.layers.Dropout(0.5),\n",
    "    tf.keras.layers.Dense(512, activation='elu'),\n",
    "    tf.keras.layers.Dropout(0.5),\n",
    "    tf.keras.layers.Dense(512, activation='elu'),\n",
    "    tf.keras.layers.Dropout(0.5),\n",
    "    tf.keras.layers.Dense(512, activation='elu'),\n",
    "    tf.keras.layers.Dropout(0.5),\n",
    "    tf.keras.layers.Dense(1)\n",
    "])\n",
    "\n",
    "regularizer_histories['dropout'] = compile_and_fit(dropout_model, \"regularizers/dropout\")"
   ]
  },
  {
   "cell_type": "code",
   "execution_count": 32,
   "metadata": {},
   "outputs": [
    {
     "data": {
      "image/png": "[encoded data removed]",
      "text/plain": [
       "<Figure size 432x288 with 1 Axes>"
      ]
     },
     "metadata": {
      "needs_background": "light"
     },
     "output_type": "display_data"
    }
   ],
   "source": [
    "plotter.plot(regularizer_histories)\n",
    "_ = plt.ylim([0.5, 0.7])"
   ]
  },
  {
   "cell_type": "markdown",
   "metadata": {},
   "source": [
    "These models are both better than without, but they still don't bead the `Tiny` baseline."
   ]
  },
  {
   "cell_type": "code",
   "execution_count": 33,
   "metadata": {},
   "outputs": [
    {
     "name": "stdout",
     "output_type": "stream",
     "text": [
      "Model: \"sequential_6\"\n",
      "_________________________________________________________________\n",
      " Layer (type)                Output Shape              Param #   \n",
      "=================================================================\n",
      " dense_24 (Dense)            (None, 512)               14848     \n",
      "                                                                 \n",
      " dropout_4 (Dropout)         (None, 512)               0         \n",
      "                                                                 \n",
      " dense_25 (Dense)            (None, 512)               262656    \n",
      "                                                                 \n",
      " dropout_5 (Dropout)         (None, 512)               0         \n",
      "                                                                 \n",
      " dense_26 (Dense)            (None, 512)               262656    \n",
      "                                                                 \n",
      " dropout_6 (Dropout)         (None, 512)               0         \n",
      "                                                                 \n",
      " dense_27 (Dense)            (None, 512)               262656    \n",
      "                                                                 \n",
      " dropout_7 (Dropout)         (None, 512)               0         \n",
      "                                                                 \n",
      " dense_28 (Dense)            (None, 1)                 513       \n",
      "                                                                 \n",
      "=================================================================\n",
      "Total params: 803,329\n",
      "Trainable params: 803,329\n",
      "Non-trainable params: 0\n",
      "_________________________________________________________________\n",
      "\n",
      "Epoch: 0, accuracy:0.4991,  binary_crossentropy:0.8131,  loss:0.9715,  val_accuracy:0.5480,  val_binary_crossentropy:0.7510,  val_loss:0.9087,  \n",
      "....................................................................................................\n",
      "Epoch: 100, accuracy:0.6538,  binary_crossentropy:0.6034,  loss:0.6343,  val_accuracy:0.6390,  val_binary_crossentropy:0.5873,  val_loss:0.6180,  \n",
      "....................................................................................................\n",
      "Epoch: 200, accuracy:0.6584,  binary_crossentropy:0.5905,  loss:0.6168,  val_accuracy:0.6890,  val_binary_crossentropy:0.5730,  val_loss:0.5993,  \n",
      "....................................................................................................\n",
      "Epoch: 300, accuracy:0.6769,  binary_crossentropy:0.5795,  loss:0.6083,  val_accuracy:0.7010,  val_binary_crossentropy:0.5647,  val_loss:0.5935,  \n",
      "....................................................................................................\n",
      "Epoch: 400, accuracy:0.6740,  binary_crossentropy:0.5767,  loss:0.6073,  val_accuracy:0.6820,  val_binary_crossentropy:0.5576,  val_loss:0.5882,  \n",
      "....................................................................................................\n",
      "Epoch: 500, accuracy:0.6801,  binary_crossentropy:0.5728,  loss:0.6047,  val_accuracy:0.6760,  val_binary_crossentropy:0.5592,  val_loss:0.5911,  \n",
      "....................................................................................................\n",
      "Epoch: 600, accuracy:0.6859,  binary_crossentropy:0.5678,  loss:0.6014,  val_accuracy:0.6910,  val_binary_crossentropy:0.5432,  val_loss:0.5769,  \n",
      "....................................................................................................\n",
      "Epoch: 700, accuracy:0.6843,  binary_crossentropy:0.5627,  loss:0.5975,  val_accuracy:0.7030,  val_binary_crossentropy:0.5417,  val_loss:0.5764,  \n",
      "....................................................................................................\n",
      "Epoch: 800, accuracy:0.6928,  binary_crossentropy:0.5594,  loss:0.5955,  val_accuracy:0.6850,  val_binary_crossentropy:0.5453,  val_loss:0.5813,  \n",
      "....................................................................................................\n",
      "Epoch: 900, accuracy:0.6973,  binary_crossentropy:0.5531,  loss:0.5906,  val_accuracy:0.7010,  val_binary_crossentropy:0.5398,  val_loss:0.5773,  \n",
      "....................................................................................................\n",
      "Epoch: 1000, accuracy:0.6988,  binary_crossentropy:0.5503,  loss:0.5891,  val_accuracy:0.7030,  val_binary_crossentropy:0.5441,  val_loss:0.5829,  \n",
      "....................................................................................................\n",
      "Epoch: 1100, accuracy:0.6979,  binary_crossentropy:0.5514,  loss:0.5915,  val_accuracy:0.7080,  val_binary_crossentropy:0.5434,  val_loss:0.5835,  \n",
      "....................................................................................................\n",
      "Epoch: 1200, accuracy:0.7034,  binary_crossentropy:0.5459,  loss:0.5871,  val_accuracy:0.6990,  val_binary_crossentropy:0.5449,  val_loss:0.5861,  \n",
      "..................................."
     ]
    }
   ],
   "source": [
    "combined_model = tf.keras.Sequential([\n",
    "    tf.keras.layers.Dense(512, kernel_regularizer=tf.keras.regularizers.l2(0.0001),\n",
    "                 activation='elu', input_shape=(FEATURES,)),\n",
    "    tf.keras.layers.Dropout(0.5),\n",
    "    tf.keras.layers.Dense(512, kernel_regularizer=tf.keras.regularizers.l2(0.0001),\n",
    "                 activation='elu'),\n",
    "    tf.keras.layers.Dropout(0.5),\n",
    "    tf.keras.layers.Dense(512, kernel_regularizer=tf.keras.regularizers.l2(0.0001),\n",
    "                 activation='elu'),\n",
    "    tf.keras.layers.Dropout(0.5),\n",
    "    tf.keras.layers.Dense(512, kernel_regularizer=tf.keras.regularizers.l2(0.0001),\n",
    "                 activation='elu'),\n",
    "    tf.keras.layers.Dropout(0.5),\n",
    "    tf.keras.layers.Dense(1)\n",
    "])\n",
    "\n",
    "regularizer_histories['combined'] = compile_and_fit(combined_model, \"regularizers/combined\")"
   ]
  },
  {
   "cell_type": "markdown",
   "metadata": {},
   "source": [
    "# Notes\n",
    "#### Most common ways to prevent overfitting\n",
    "- get more training data\n",
    "- reduce capacity/size of the network\n",
    "- add weight regulizers\n",
    "- add dropout\n",
    "#### two other things to consider (that weren't part of the guide)\n",
    "- data augmentation\n",
    "- batch normalization\n",
    "\n",
    "#### a combination is more effective!"
   ]
  }
 ],
 "metadata": {
  "interpreter": {
   "hash": "9160c6cf5aab06277c81118e8682660151e6ad391d4cc63a71724804c8a65c36"
  },
  "kernelspec": {
   "display_name": "Python 3.8.9 ('env': venv)",
   "language": "python",
   "name": "python3"
  },
  "language_info": {
   "codemirror_mode": {
    "name": "ipython",
    "version": 3
   },
   "file_extension": ".py",
   "mimetype": "text/x-python",
   "name": "python",
   "nbconvert_exporter": "python",
   "pygments_lexer": "ipython3",
   "version": "3.8.9"
  },
  "orig_nbformat": 4
 },
 "nbformat": 4,
 "nbformat_minor": 2
}
