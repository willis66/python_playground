{
  "cells": [
    {
      "cell_type": "markdown",
      "metadata": {
        "id": "view-in-github",
        "colab_type": "text"
      },
      "source": [
        "<a href=\"https://colab.research.google.com/github/williserdman/python_playground/blob/main/basic_text_classification/main_tf_hub.ipynb\" target=\"_parent\"><img src=\"https://colab.research.google.com/assets/colab-badge.svg\" alt=\"Open In Colab\"/></a>"
      ]
    },
    {
      "cell_type": "code",
      "execution_count": null,
      "metadata": {
        "id": "5hA48PwQi2MG"
      },
      "outputs": [],
      "source": [
        "import sys\n"
      ]
    },
    {
      "cell_type": "code",
      "execution_count": null,
      "metadata": {
        "colab": {
          "base_uri": "https://localhost:8080/"
        },
        "id": "k_q9fGaEi2MJ",
        "outputId": "8c087876-89ec-4b33-805e-ddb7999e79bf"
      },
      "outputs": [
        {
          "name": "stdout",
          "output_type": "stream",
          "text": [
            "System version: 3.7.13 (default, Apr 24 2022, 01:04:09) \n",
            "[GCC 7.5.0]\n"
          ]
        }
      ],
      "source": [
        "print(\"System version:\", sys.version)\n",
        "import tensorflow as tf\n"
      ]
    },
    {
      "cell_type": "code",
      "execution_count": null,
      "metadata": {
        "id": "JsmjeGZsi2MK"
      },
      "outputs": [],
      "source": [
        "import tensorflow_hub as hub\n",
        "import tensorflow_datasets as tfds\n"
      ]
    },
    {
      "cell_type": "code",
      "execution_count": null,
      "metadata": {
        "colab": {
          "base_uri": "https://localhost:8080/"
        },
        "id": "cJPMKG5Ci2ML",
        "outputId": "080fc59e-56da-4bca-fe5c-412831b3659d"
      },
      "outputs": [
        {
          "name": "stdout",
          "output_type": "stream",
          "text": [
            "Tensorflow version:  2.8.0\n",
            "Tensorflow eager mode:  True\n",
            "Tensorflow Hub version:  0.12.0\n",
            "GPU is available\n"
          ]
        },
        {
          "data": {
            "text/plain": [
              "[PhysicalDevice(name='/physical_device:CPU:0', device_type='CPU'),\n",
              " PhysicalDevice(name='/physical_device:GPU:0', device_type='GPU')]"
            ]
          },
          "execution_count": 15,
          "metadata": {},
          "output_type": "execute_result"
        }
      ],
      "source": [
        "print(\"Tensorflow version: \", tf.__version__)\n",
        "print(\"Tensorflow eager mode: \", tf.executing_eagerly())\n",
        "print(\"Tensorflow Hub version: \", hub.__version__)\n",
        "print(\n",
        "    \"GPU is\", \"available\" if tf.config.list_physical_devices(\"GPU\") else \"NOT AVAILABLE\"\n",
        ")\n",
        "tf.config.list_physical_devices()\n"
      ]
    },
    {
      "cell_type": "code",
      "execution_count": null,
      "metadata": {
        "id": "MDFnPBumi2MM"
      },
      "outputs": [],
      "source": [
        "train_ds, val_ds, test_ds = tfds.load(\n",
        "    name=\"imdb_reviews\",\n",
        "    split=(\"train[:60%]\", \"train[60%:]\", \"test\"),\n",
        "    as_supervised=True,\n",
        ")\n"
      ]
    },
    {
      "cell_type": "code",
      "execution_count": null,
      "metadata": {
        "colab": {
          "base_uri": "https://localhost:8080/"
        },
        "id": "DpQO6wAMi2MN",
        "outputId": "18a8229b-e837-4601-96c5-10324f7bbbc4"
      },
      "outputs": [
        {
          "name": "stdout",
          "output_type": "stream",
          "text": [
            "tf.Tensor(\n",
            "[b\"This was an absolutely terrible movie. Don't be lured in by Christopher Walken or Michael Ironside. Both are great actors, but this must simply be their worst role in history. Even their great acting could not redeem this movie's ridiculous storyline. This movie is an early nineties US propaganda piece. The most pathetic scenes were those when the Columbian rebels were making their cases for revolutions. Maria Conchita Alonso appeared phony, and her pseudo-love affair with Walken was nothing but a pathetic emotional plug in a movie that was devoid of any real meaning. I am disappointed that there are movies like this, ruining actor's like Christopher Walken's good name. I could barely sit through it.\"\n",
            " b'I have been known to fall asleep during films, but this is usually due to a combination of things including, really tired, being warm and comfortable on the sette and having just eaten a lot. However on this occasion I fell asleep because the film was rubbish. The plot development was constant. Constantly slow and boring. Things seemed to happen, but with no explanation of what was causing them or why. I admit, I may have missed part of the film, but i watched the majority of it and everything just seemed to happen of its own accord without any real concern for anything else. I cant recommend this film at all.'\n",
            " b'Mann photographs the Alberta Rocky Mountains in a superb fashion, and Jimmy Stewart and Walter Brennan give enjoyable performances as they always seem to do. <br /><br />But come on Hollywood - a Mountie telling the people of Dawson City, Yukon to elect themselves a marshal (yes a marshal!) and to enforce the law themselves, then gunfighters battling it out on the streets for control of the town? <br /><br />Nothing even remotely resembling that happened on the Canadian side of the border during the Klondike gold rush. Mr. Mann and company appear to have mistaken Dawson City for Deadwood, the Canadian North for the American Wild West.<br /><br />Canadian viewers be prepared for a Reefer Madness type of enjoyable howl with this ludicrous plot, or, to shake your head in disgust.'\n",
            " b'This is the kind of film for a snowy Sunday afternoon when the rest of the world can go ahead with its own business as you descend into a big arm-chair and mellow for a couple of hours. Wonderful performances from Cher and Nicolas Cage (as always) gently row the plot along. There are no rapids to cross, no dangerous waters, just a warm and witty paddle through New York life at its best. A family film in every sense and one that deserves the praise it received.'\n",
            " b'As others have mentioned, all the women that go nude in this film are mostly absolutely gorgeous. The plot very ably shows the hypocrisy of the female libido. When men are around they want to be pursued, but when no \"men\" are around, they become the pursuers of a 14 year old boy. And the boy becomes a man really fast (we should all be so lucky at this age!). He then gets up the courage to pursue his true love.'\n",
            " b\"This is a film which should be seen by anybody interested in, effected by, or suffering from an eating disorder. It is an amazingly accurate and sensitive portrayal of bulimia in a teenage girl, its causes and its symptoms. The girl is played by one of the most brilliant young actresses working in cinema today, Alison Lohman, who was later so spectacular in 'Where the Truth Lies'. I would recommend that this film be shown in all schools, as you will never see a better on this subject. Alison Lohman is absolutely outstanding, and one marvels at her ability to convey the anguish of a girl suffering from this compulsive disorder. If barometers tell us the air pressure, Alison Lohman tells us the emotional pressure with the same degree of accuracy. Her emotional range is so precise, each scene could be measured microscopically for its gradations of trauma, on a scale of rising hysteria and desperation which reaches unbearable intensity. Mare Winningham is the perfect choice to play her mother, and does so with immense sympathy and a range of emotions just as finely tuned as Lohman's. Together, they make a pair of sensitive emotional oscillators vibrating in resonance with one another. This film is really an astonishing achievement, and director Katt Shea should be proud of it. The only reason for not seeing it is if you are not interested in people. But even if you like nature films best, this is after all animal behaviour at the sharp edge. Bulimia is an extreme version of how a tormented soul can destroy her own body in a frenzy of despair. And if we don't sympathise with people suffering from the depths of despair, then we are dead inside.\"\n",
            " b'Okay, you have:<br /><br />Penelope Keith as Miss Herringbone-Tweed, B.B.E. (Backbone of England.) She\\'s killed off in the first scene - that\\'s right, folks; this show has no backbone!<br /><br />Peter O\\'Toole as Ol\\' Colonel Cricket from The First War and now the emblazered Lord of the Manor.<br /><br />Joanna Lumley as the ensweatered Lady of the Manor, 20 years younger than the colonel and 20 years past her own prime but still glamourous (Brit spelling, not mine) enough to have a toy-boy on the side. It\\'s alright, they have Col. Cricket\\'s full knowledge and consent (they guy even comes \\'round for Christmas!) Still, she\\'s considerate of the colonel enough to have said toy-boy her own age (what a gal!)<br /><br />David McCallum as said toy-boy, equally as pointlessly glamourous as his squeeze. Pilcher couldn\\'t come up with any cover for him within the story, so she gave him a hush-hush job at the Circus.<br /><br />and finally:<br /><br />Susan Hampshire as Miss Polonia Teacups, Venerable Headmistress of the Venerable Girls\\' Boarding-School, serving tea in her office with a dash of deep, poignant advice for life in the outside world just before graduation. Her best bit of advice: \"I\\'ve only been to Nancherrow (the local Stately Home of England) once. I thought it was very beautiful but, somehow, not part of the real world.\" Well, we can\\'t say they didn\\'t warn us.<br /><br />Ah, Susan - time was, your character would have been running the whole show. They don\\'t write \\'em like that any more. Our loss, not yours.<br /><br />So - with a cast and setting like this, you have the re-makings of \"Brideshead Revisited,\" right?<br /><br />Wrong! They took these 1-dimensional supporting roles because they paid so well. After all, acting is one of the oldest temp-jobs there is (YOU name another!)<br /><br />First warning sign: lots and lots of backlighting. They get around it by shooting outdoors - \"hey, it\\'s just the sunlight!\"<br /><br />Second warning sign: Leading Lady cries a lot. When not crying, her eyes are moist. That\\'s the law of romance novels: Leading Lady is \"dewy-eyed.\"<br /><br />Henceforth, Leading Lady shall be known as L.L.<br /><br />Third warning sign: L.L. actually has stars in her eyes when she\\'s in love. Still, I\\'ll give Emily Mortimer an award just for having to act with that spotlight in her eyes (I wonder . did they use contacts?)<br /><br />And lastly, fourth warning sign: no on-screen female character is \"Mrs.\" She\\'s either \"Miss\" or \"Lady.\"<br /><br />When all was said and done, I still couldn\\'t tell you who was pursuing whom and why. I couldn\\'t even tell you what was said and done.<br /><br />To sum up: they all live through World War II without anything happening to them at all.<br /><br />OK, at the end, L.L. finds she\\'s lost her parents to the Japanese prison camps and baby sis comes home catatonic. Meanwhile (there\\'s always a \"meanwhile,\") some young guy L.L. had a crush on (when, I don\\'t know) comes home from some wartime tough spot and is found living on the street by Lady of the Manor (must be some street if SHE\\'s going to find him there.) Both war casualties are whisked away to recover at Nancherrow (SOMEBODY has to be \"whisked away\" SOMEWHERE in these romance stories!)<br /><br />Great drama.'\n",
            " b'The film is based on a genuine 1950s novel.<br /><br />Journalist Colin McInnes wrote a set of three \"London novels\": \"Absolute Beginners\", \"City of Spades\" and \"Mr Love and Justice\". I have read all three. The first two are excellent. The last, perhaps an experiment that did not come off. But McInnes\\'s work is highly acclaimed; and rightly so. This musical is the novelist\\'s ultimate nightmare - to see the fruits of one\\'s mind being turned into a glitzy, badly-acted, soporific one-dimensional apology of a film that says it captures the spirit of 1950s London, and does nothing of the sort.<br /><br />Thank goodness Colin McInnes wasn\\'t alive to witness it.'\n",
            " b'I really love the sexy action and sci-fi films of the sixties and its because of the actress\\'s that appeared in them. They found the sexiest women to be in these films and it didn\\'t matter if they could act (Remember \"Candy\"?). The reason I was disappointed by this film was because it wasn\\'t nostalgic enough. The story here has a European sci-fi film called \"Dragonfly\" being made and the director is fired. So the producers decide to let a young aspiring filmmaker (Jeremy Davies) to complete the picture. They\\'re is one real beautiful woman in the film who plays Dragonfly but she\\'s barely in it. Film is written and directed by Roman Coppola who uses some of his fathers exploits from his early days and puts it into the script. I wish the film could have been an homage to those early films. They could have lots of cameos by actors who appeared in them. There is one actor in this film who was popular from the sixties and its John Phillip Law (Barbarella). Gerard Depardieu, Giancarlo Giannini and Dean Stockwell appear as well. I guess I\\'m going to have to continue waiting for a director to make a good homage to the films of the sixties. If any are reading this, \"Make it as sexy as you can\"! I\\'ll be waiting!'\n",
            " b'Sure, this one isn\\'t really a blockbuster, nor does it target such a position. \"Dieter\" is the first name of a quite popular German musician, who is either loved or hated for his kind of acting and thats exactly what this movie is about. It is based on the autobiography \"Dieter Bohlen\" wrote a few years ago but isn\\'t meant to be accurate on that. The movie is filled with some sexual offensive content (at least for American standard) which is either amusing (not for the other \"actors\" of course) or dumb - it depends on your individual kind of humor or on you being a \"Bohlen\"-Fan or not. Technically speaking there isn\\'t much to criticize. Speaking of me I find this movie to be an OK-movie.'], shape=(10,), dtype=string)\n",
            "tf.Tensor([0 0 0 1 1 1 0 0 0 0], shape=(10,), dtype=int64)\n"
          ]
        }
      ],
      "source": [
        "train_examples_batch, train_labels_batch = next(iter(train_ds.batch(10)))\n",
        "print(train_examples_batch)\n",
        "print(train_labels_batch)\n"
      ]
    },
    {
      "cell_type": "code",
      "execution_count": null,
      "metadata": {
        "colab": {
          "base_uri": "https://localhost:8080/"
        },
        "id": "2DPnVAQOi2MO",
        "outputId": "10dec20d-357a-41f7-8da5-d67c35bbdfc4"
      },
      "outputs": [
        {
          "name": "stdout",
          "output_type": "stream",
          "text": [
            "tf.Tensor(\n",
            "[[ 1.15015066e+00  7.80130103e-02  9.26615447e-02  2.83361435e-01\n",
            "   9.67164431e-03 -1.49186060e-01  3.35665733e-01 -3.50244790e-01\n",
            "  -8.28830618e-03 -1.87714081e-02 -3.33069824e-02 -6.33094192e-01\n",
            "  -3.75421256e-01 -2.77732849e-01 -9.66175571e-02  1.72553629e-01\n",
            "  -1.33676574e-01  3.80765870e-02 -2.75138199e-01  4.94762301e-01\n",
            "   3.93051840e-02  1.34496227e-01 -2.70728230e-01  1.78942848e-02\n",
            "  -2.41071522e-01  2.71089785e-02  1.02333419e-01 -1.06628530e-01\n",
            "   5.24298586e-02  1.19170472e-01 -6.67077256e-03  3.39231521e-01\n",
            "   1.13014966e-01  1.06842585e-01  3.91571134e-01 -1.89536288e-01\n",
            "  -1.74000353e-01 -1.06444150e-01 -1.34200439e-01  1.73583925e-01\n",
            "  -2.77695060e-01 -4.33591381e-02 -3.91500629e-02 -1.98340893e-01\n",
            "   2.74854712e-02  2.76702970e-01  1.40702844e-01 -3.14256102e-01\n",
            "   2.47569270e-02 -1.67308271e-01  8.21740180e-02 -9.56841931e-02\n",
            "  -2.57335782e-01  3.72914791e-01 -2.21059948e-01 -2.14436904e-01\n",
            "  -5.83256371e-02  1.50036931e-01 -1.67723849e-01 -8.02809969e-02\n",
            "  -2.11373478e-01 -3.98310134e-03  6.34767562e-02  6.65169135e-02\n",
            "   9.25245956e-02  1.13278836e-01 -1.00958914e-01 -2.20176265e-01\n",
            "   3.49875271e-01  4.98270988e-02 -1.59279123e-01  2.82199979e-01\n",
            "   4.36919406e-02  1.83730368e-02 -7.30237504e-03  1.22521020e-01\n",
            "  -5.63407578e-02 -2.07715452e-01 -2.37706840e-01  1.89738169e-01\n",
            "   1.00460403e-01 -2.07205519e-01 -2.70957381e-01  3.19231898e-02\n",
            "  -5.62466234e-02  3.81587483e-02 -1.47694111e-01  1.41778007e-01\n",
            "   9.03146207e-01  8.36536646e-01 -2.31574401e-01  2.83275247e-01\n",
            "   1.09397285e-01 -2.45359987e-01  8.62814263e-02  2.20005468e-01\n",
            "   1.32306606e-01  1.03527168e-02  1.06135800e-01 -5.05982805e-03\n",
            "  -4.26607914e-02 -1.62250139e-02  3.30362767e-01  2.33826548e-01\n",
            "   9.50708613e-02 -3.50534409e-01 -1.20180815e-01  6.44739494e-02\n",
            "  -2.22685337e-01  7.50750676e-02 -2.80554742e-01 -1.96979865e-02\n",
            "  -2.63545483e-01 -3.05303425e-01 -4.47771885e-02 -2.46705145e-01\n",
            "   1.19343020e-01  8.74264613e-02 -2.25616526e-02  1.70262560e-01\n",
            "   7.61279315e-02 -3.06843042e-01 -5.01325391e-02  3.45908701e-01\n",
            "  -1.52095477e-03 -2.55828023e-01  1.65855348e-01 -2.58007646e-02]\n",
            " [ 1.52354681e+00  3.32376845e-02  1.66283786e-01  3.49779069e-01\n",
            "   1.16703980e-01 -1.37402400e-01  2.24335313e-01 -2.52213806e-01\n",
            "   6.18566684e-02  1.49286509e-01  2.26167157e-01 -4.01730150e-01\n",
            "  -3.85119438e-01 -1.24227524e-01 -2.31498361e-01  1.82310224e-01\n",
            "  -8.79664347e-02 -3.30210887e-02 -3.57700974e-01  6.12851739e-01\n",
            "   2.80654997e-01  1.88463345e-01 -9.48799923e-02 -6.51391596e-03\n",
            "  -4.95846197e-02 -1.12557530e-01  2.30208546e-01 -2.94450019e-02\n",
            "  -1.71247810e-01  5.84451742e-02 -7.85206407e-02  1.85191795e-01\n",
            "   1.74413934e-01  4.44407575e-02  2.35947460e-01  7.82060176e-02\n",
            "  -1.22543544e-01 -4.02029991e-01  3.57941315e-02  2.91599393e-01\n",
            "  -1.16091929e-01 -5.04460782e-02 -1.24564804e-02 -1.52101457e-01\n",
            "   4.88304086e-02  2.45040268e-01  1.88039511e-01  5.93084991e-02\n",
            "  -1.52169779e-01  1.44652352e-01  1.41917989e-01  1.01835154e-01\n",
            "  -6.39419258e-02  1.74528375e-01 -3.32837850e-01 -2.24371374e-01\n",
            "  -1.61553305e-02 -5.11539355e-02  2.01643839e-01  7.71175101e-02\n",
            "  -1.81447983e-01  7.32667968e-02  2.72182435e-01 -1.49451241e-01\n",
            "  -4.97367680e-02  7.49207288e-02  5.87207219e-03 -1.47187814e-01\n",
            "   2.22975716e-01 -1.18601754e-01 -3.09471488e-01  1.94988668e-01\n",
            "   4.72114161e-02 -1.37738690e-01 -1.47181541e-01  1.92691281e-01\n",
            "  -2.37557683e-02 -3.08101147e-01  6.72790557e-02  8.87041166e-02\n",
            "   2.61804104e-01 -4.71980534e-02  5.65208010e-02 -4.13714685e-02\n",
            "   9.23642050e-03 -6.09218925e-02 -4.92727429e-01  1.33994892e-01\n",
            "   1.11824167e+00  5.58933198e-01 -3.65284905e-02  1.47231638e-01\n",
            "  -4.77895103e-02 -1.74497068e-01  1.81616247e-01  8.93370286e-02\n",
            "   1.38356417e-01 -1.68069720e-01 -7.78260604e-02  8.74290168e-02\n",
            "   1.35343811e-02  6.48171380e-02  3.71694893e-01  9.74644721e-02\n",
            "   6.03579469e-02 -1.52941838e-01 -2.27041915e-01  1.17899261e-01\n",
            "  -3.28250021e-01  1.63627818e-01 -5.73002875e-01 -2.16464903e-02\n",
            "  -2.74008632e-01 -2.00568393e-01 -4.26811650e-02 -4.34408396e-01\n",
            "  -4.22911607e-02 -8.21549166e-03 -1.38496226e-02  9.50264409e-02\n",
            "   2.34699517e-01 -2.57590443e-01  1.18056901e-01  1.75433099e-01\n",
            "  -6.00582622e-02 -2.59853303e-01  5.85031174e-02  5.13857305e-02]\n",
            " [ 1.03975034e+00 -7.72260502e-02  2.05223799e-01  1.54514685e-01\n",
            "   1.17602721e-01 -4.73863035e-02  4.12470140e-02 -1.53671829e-02\n",
            "  -9.24506783e-02 -2.16789823e-02  6.67373613e-02 -2.43153378e-01\n",
            "  -2.22204477e-01 -3.11305940e-01 -1.81535244e-01  1.72068905e-02\n",
            "  -3.29752535e-01 -1.44480420e-02 -1.42682299e-01  9.24719095e-01\n",
            "  -9.42482799e-02  2.44870290e-01 -5.73925488e-03  1.79381445e-01\n",
            "   5.30688874e-02 -8.69900882e-02 -4.91938107e-02 -1.58877820e-01\n",
            "   3.49446423e-02  6.05077632e-02  7.57769346e-02 -9.34731439e-02\n",
            "   2.20445365e-01  5.70709147e-02  1.56069279e-01 -9.64625403e-02\n",
            "  -6.01739921e-02 -2.20777780e-01 -2.50988882e-02  1.89113796e-01\n",
            "   9.18956622e-02 -6.30337000e-02 -1.31969795e-01  1.51280746e-01\n",
            "   5.45298904e-02  9.53609217e-03  9.16176885e-02  6.85973316e-02\n",
            "   3.23405825e-02 -1.08352326e-01  8.81479308e-02  1.21273868e-01\n",
            "   1.30856603e-01  3.43390673e-01  3.14019062e-02 -2.42935047e-01\n",
            "  -1.69348821e-01  1.71476305e-01  1.80512920e-01  1.14522185e-02\n",
            "  -3.34674299e-01  9.32157412e-02 -1.13504425e-01  7.02534243e-02\n",
            "  -8.03108960e-02  3.71657349e-02 -9.59925726e-02  1.11907676e-01\n",
            "   3.27881962e-01 -1.34251207e-01 -3.07931434e-02 -1.62432209e-01\n",
            "   5.62633686e-02  6.59982935e-02 -8.46172124e-02  2.69845605e-01\n",
            "   2.46733859e-01 -1.07384622e-01 -2.94824084e-03  9.82785150e-02\n",
            "   1.91690549e-01 -2.52420548e-03 -7.64007568e-02 -6.55274242e-02\n",
            "   3.64099517e-02 -1.93919808e-01 -3.17655057e-01 -5.13524972e-02\n",
            "   5.24596512e-01  7.87500739e-02 -6.81840107e-02  1.64156541e-01\n",
            "   6.18895032e-02 -1.24722071e-01  2.36907050e-01  1.63341358e-01\n",
            "   3.27721745e-01  1.30028114e-01  2.49234304e-01  5.66367805e-02\n",
            "   2.63878852e-01 -2.12772384e-01  1.84145927e-01  1.33621454e-01\n",
            "   1.05241783e-01 -1.52703486e-02  1.91373602e-02  1.48221329e-01\n",
            "  -3.00121695e-01 -1.87495336e-01 -3.24985869e-02  7.47555271e-02\n",
            "  -1.38561845e-01 -4.58047241e-02  1.79673463e-01 -1.05470836e-01\n",
            "   1.44995064e-01 -7.56355468e-04  1.19935170e-01  1.95416082e-02\n",
            "  -7.95775950e-02 -4.10803050e-01  3.79540361e-02 -1.09539656e-02\n",
            "  -1.40515938e-01 -3.37521046e-01  5.34588434e-02 -5.96690811e-02]], shape=(3, 128), dtype=float32)\n"
          ]
        }
      ],
      "source": [
        "embedding = \"https://tfhub.dev/google/nnlm-en-dim128-with-normalization/2\"\n",
        "hub_layer = hub.KerasLayer(embedding, input_shape=[], dtype=tf.string, trainable=True)\n",
        "example_hub_layer = hub_layer(train_examples_batch[:3])\n",
        "print(example_hub_layer)\n"
      ]
    },
    {
      "cell_type": "code",
      "execution_count": null,
      "metadata": {
        "id": "_zYMx5dvi2MP"
      },
      "outputs": [],
      "source": [
        "model = tf.keras.Sequential()\n",
        "model.add(hub_layer)\n",
        "model.add(tf.keras.layers.Dense(16, activation=\"relu\"))\n",
        "model.add(tf.keras.layers.Dense(1))\n"
      ]
    },
    {
      "cell_type": "code",
      "execution_count": null,
      "metadata": {
        "colab": {
          "base_uri": "https://localhost:8080/"
        },
        "id": "MMyWEH5Bi2MQ",
        "outputId": "8e2e35b0-29e6-4c82-cbc9-92e3d9c97518"
      },
      "outputs": [
        {
          "name": "stdout",
          "output_type": "stream",
          "text": [
            "Model: \"sequential_1\"\n",
            "_________________________________________________________________\n",
            " Layer (type)                Output Shape              Param #   \n",
            "=================================================================\n",
            " keras_layer_1 (KerasLayer)  (None, 128)               124642688 \n",
            "                                                                 \n",
            " dense_2 (Dense)             (None, 16)                2064      \n",
            "                                                                 \n",
            " dense_3 (Dense)             (None, 1)                 17        \n",
            "                                                                 \n",
            "=================================================================\n",
            "Total params: 124,644,769\n",
            "Trainable params: 124,644,769\n",
            "Non-trainable params: 0\n",
            "_________________________________________________________________\n"
          ]
        }
      ],
      "source": [
        "model.summary()\n",
        "model.compile(\n",
        "    optimizer=\"adam\",\n",
        "    loss=tf.keras.losses.BinaryCrossentropy(from_logits=True),\n",
        "    metrics=[\"accuracy\"],\n",
        ")\n"
      ]
    },
    {
      "cell_type": "code",
      "execution_count": null,
      "metadata": {
        "colab": {
          "background_save": true,
          "base_uri": "https://localhost:8080/"
        },
        "id": "K5SFPozndCN4",
        "outputId": "3437a118-a54a-4bf4-d722-fff29a38a59b"
      },
      "outputs": [
        {
          "name": "stdout",
          "output_type": "stream",
          "text": [
            "Epoch 1/10\n",
            "30/30 [==============================] - 47s 2s/step - loss: 0.6034 - accuracy: 0.5911 - val_loss: 0.5015 - val_accuracy: 0.7523\n",
            "Epoch 2/10\n",
            "30/30 [==============================] - 45s 1s/step - loss: 0.3937 - accuracy: 0.8346 - val_loss: 0.3548 - val_accuracy: 0.8551\n",
            "Epoch 3/10\n",
            "30/30 [==============================] - 45s 1s/step - loss: 0.2481 - accuracy: 0.9095 - val_loss: 0.2937 - val_accuracy: 0.8658\n",
            "Epoch 4/10\n",
            "30/30 [==============================] - 46s 2s/step - loss: 0.1617 - accuracy: 0.9445 - val_loss: 0.2692 - val_accuracy: 0.8879\n",
            "Epoch 5/10\n",
            "30/30 [==============================] - 45s 1s/step - loss: 0.1045 - accuracy: 0.9700 - val_loss: 0.2648 - val_accuracy: 0.8908\n",
            "Epoch 6/10\n",
            "30/30 [==============================] - 45s 2s/step - loss: 0.0659 - accuracy: 0.9852 - val_loss: 0.2718 - val_accuracy: 0.8904\n",
            "Epoch 7/10\n",
            "30/30 [==============================] - 45s 1s/step - loss: 0.0414 - accuracy: 0.9926 - val_loss: 0.2864 - val_accuracy: 0.8875\n",
            "Epoch 8/10\n",
            "30/30 [==============================] - 45s 1s/step - loss: 0.0268 - accuracy: 0.9965 - val_loss: 0.3003 - val_accuracy: 0.8889\n",
            "Epoch 9/10\n",
            "30/30 [==============================] - 46s 2s/step - loss: 0.0168 - accuracy: 0.9984 - val_loss: 0.3157 - val_accuracy: 0.8883\n",
            "Epoch 10/10\n",
            "30/30 [==============================] - 45s 1s/step - loss: 0.0109 - accuracy: 0.9995 - val_loss: 0.3376 - val_accuracy: 0.8877\n"
          ]
        }
      ],
      "source": [
        "#this is c\n",
        "history = model.fit(\n",
        "    train_ds.shuffle(10000).batch(512),\n",
        "    epochs=10,\n",
        "    validation_data=val_ds.batch(512),\n",
        "    verbose=1\n",
        ")\n"
      ]
    },
    {
      "cell_type": "code",
      "execution_count": 24,
      "metadata": {
        "colab": {
          "base_uri": "https://localhost:8080/"
        },
        "id": "lGtjE-hHdCN5",
        "outputId": "56c16c3d-b6a1-453a-a76d-b451d6c60112"
      },
      "outputs": [
        {
          "output_type": "stream",
          "name": "stdout",
          "text": [
            "49/49 - 3s - loss: 0.3471 - accuracy: 0.8697 - 3s/epoch - 65ms/step\n",
            "loss: 0.347\n",
            "accuracy: 0.870\n"
          ]
        }
      ],
      "source": [
        "results = model.evaluate(test_ds.batch(512), verbose=2)\n",
        "\n",
        "for name, value in zip(model.metrics_names, results):\n",
        "    print(\"%s: %.3f\" % (name, value))"
      ]
    }
  ],
  "metadata": {
    "accelerator": "GPU",
    "colab": {
      "collapsed_sections": [],
      "name": "main_tf_hub.ipynb",
      "provenance": [],
      "include_colab_link": true
    },
    "interpreter": {
      "hash": "d07e3682929a38b7d4100066a07c7d45f84f3f13a04b61f9f79ced75e114c9b9"
    },
    "kernelspec": {
      "display_name": "Python 3.9.12 ('py39')",
      "language": "python",
      "name": "python3"
    },
    "language_info": {
      "codemirror_mode": {
        "name": "ipython",
        "version": 3
      },
      "file_extension": ".py",
      "mimetype": "text/x-python",
      "name": "python",
      "nbconvert_exporter": "python",
      "pygments_lexer": "ipython3",
      "version": "3.9.12"
    }
  },
  "nbformat": 4,
  "nbformat_minor": 0
}