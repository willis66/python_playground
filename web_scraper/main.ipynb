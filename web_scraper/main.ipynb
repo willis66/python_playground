{
 "cells": [
  {
   "cell_type": "code",
   "execution_count": 4,
   "metadata": {},
   "outputs": [],
   "source": [
    "maxpreps = \"https://www.maxpreps.com/games/9-10-2021/football-21/aloha-vs-beaverton.htm?c=tv5Bis-8EESplu8DJotUMA#tab=box-score&schoolid=\"\n",
    "hudl = \"https://www.hudl.com/game/southridge-high-scho-vs-pendleton-high/varsity-football/2259-16760110/box-score\" # Only needs Southridge\n",
    "digitalscout = \"https://stats.digitalscout.com/football/boys/game/13959041\" # Only needs Beaverton"
   ]
  },
  {
   "cell_type": "code",
   "execution_count": 5,
   "metadata": {},
   "outputs": [],
   "source": [
    "import requests\n",
    "maxpreps = requests.get(maxpreps)\n",
    "hudl = requests.get(hudl)"
   ]
  },
  {
   "cell_type": "code",
   "execution_count": 6,
   "metadata": {},
   "outputs": [],
   "source": [
    "from bs4 import BeautifulSoup\n",
    "soup = BeautifulSoup(maxpreps.content, \"html.parser\")\n",
    "table = soup.find_all(\"table\", class_=\"mx-grid sortable stats-grid\")"
   ]
  },
  {
   "cell_type": "code",
   "execution_count": 7,
   "metadata": {},
   "outputs": [],
   "source": [
    "def get_headers(table):\n",
    "    header_row = table.find(\"tr\", class_=\"primary-header-row\")\n",
    "    headers = []\n",
    "    #print(header_row.prettify())\n",
    "    header_row = header_row.find_all(\"a\", class_=\"sort-column\")\n",
    "    for header in header_row:\n",
    "        headers.append(header.text)\n",
    "    return headers"
   ]
  },
  {
   "cell_type": "code",
   "execution_count": 8,
   "metadata": {},
   "outputs": [],
   "source": [
    "for i in table:\n",
    "    # print(get_headers(i))\n",
    "    tbody = i.find(\"tbody\")\n",
    "    trows = tbody.find_all(\"tr\")\n",
    "    row_list = []\n",
    "    for row in trows:\n",
    "        row_data = []\n",
    "        data = row.find_all(\"td\")\n",
    "        for d in data:\n",
    "            row_data.append(d.text)\n",
    "        row_list.append(row_data)\n",
    "    #print(row_list)\n",
    "        \n",
    "    #print(\"\\n\\n---------------------\\n\\n\")"
   ]
  },
  {
   "cell_type": "code",
   "execution_count": 9,
   "metadata": {},
   "outputs": [
    {
     "name": "stderr",
     "output_type": "stream",
     "text": [
      "Task exception was never retrieved\n",
      "future: <Task finished name='Task-4' coro=<f() done, defined at /var/folders/43/vg26n99561513nys7wd_r9pc0000gn/T/ipykernel_74604/3238214703.py:4> exception=NameError(\"name 'digitalscout' is not defined\")>\n",
      "Traceback (most recent call last):\n",
      "  File \"/var/folders/43/vg26n99561513nys7wd_r9pc0000gn/T/ipykernel_74604/3238214703.py\", line 5, in f\n",
      "    r = await asession.get(digitalscout)\n",
      "NameError: name 'digitalscout' is not defined\n"
     ]
    },
    {
     "name": "stdout",
     "output_type": "stream",
     "text": [
      "['SRHSPassing', 'Cp/Att', 'Yds', 'TD', 'Int', 'Lg']\n",
      "[[], ['  #12 J.  Klee\\r\\n\\n', '14/24', '199', '1', '2', '57']]\n"
     ]
    },
    {
     "name": "stderr",
     "output_type": "stream",
     "text": [
      "/Users/williserdman/opt/miniconda3/envs/py39/lib/python3.9/site-packages/bs4/element.py:1233: RuntimeWarning: coroutine 'wait' was never awaited\n",
      "  self._namespaces = namespaces or {}\n",
      "RuntimeWarning: Enable tracemalloc to get the object allocation traceback\n"
     ]
    }
   ],
   "source": [
    "soup = BeautifulSoup(hudl.content, \"html.parser\")\n",
    "main = soup.find(\"section\", class_=\"main-stats\")\n",
    "main = main.find(\"section\", class_=\"compare\")\n",
    "tables = main.find_all(\"table\")\n",
    "for t in tables:\n",
    "    check = t.find(\"span\", \"school-abbreviation\")\n",
    "    # print(t.prettify())\n",
    "    if check.text == \"SRHS\":\n",
    "        headers = t.find_all(\"th\")\n",
    "        headers = [h.text for h in headers]\n",
    "        print(headers)\n",
    "        info = t.find_all(\"tr\")\n",
    "        rows = []\n",
    "        for row in info:\n",
    "            row_info = row.find_all(\"td\")\n",
    "            row_info = [i.text for i in row_info]\n",
    "            rows.append(row_info)\n",
    "        print(rows)\n",
    "    "
   ]
  }
 ],
 "metadata": {
  "interpreter": {
   "hash": "d07e3682929a38b7d4100066a07c7d45f84f3f13a04b61f9f79ced75e114c9b9"
  },
  "kernelspec": {
   "display_name": "Python 3.9.12 ('py39')",
   "language": "python",
   "name": "python3"
  },
  "language_info": {
   "codemirror_mode": {
    "name": "ipython",
    "version": 3
   },
   "file_extension": ".py",
   "mimetype": "text/x-python",
   "name": "python",
   "nbconvert_exporter": "python",
   "pygments_lexer": "ipython3",
   "version": "3.9.12"
  },
  "orig_nbformat": 4
 },
 "nbformat": 4,
 "nbformat_minor": 2
}
